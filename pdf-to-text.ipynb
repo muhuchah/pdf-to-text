{
 "cells": [
  {
   "cell_type": "code",
   "execution_count": 10,
   "metadata": {},
   "outputs": [],
   "source": [
    "def extract_text_from_pic(t, page_num):\n",
    "    # sort words in the pic based on their position\n",
    "    # from top-right\n",
    "    words = []\n",
    "    for i in range(0,len(t)):\n",
    "        tmp = []\n",
    "        y = (t[i][0][2][1] + t[i][0][1][1]) / 2\n",
    "\n",
    "        tmp.append([y, t[i][0][2][0]])\n",
    "        tmp.append(t[i][1])\n",
    "        words.append(tmp)\n",
    "\n",
    "    words = sorted(words)\n",
    "\n",
    "    # finding the words that are in the same line\n",
    "    lines = []\n",
    "    line = []\n",
    "    pre = words[0][0][0]\n",
    "    for word in words:\n",
    "        diff = abs(word[0][0] - pre)\n",
    "\n",
    "        if diff <= 10:\n",
    "            line.append(word)\n",
    "        else:\n",
    "            lines.append(line)\n",
    "            line =[word]\n",
    "            pre = word[0][0]\n",
    "    if line:\n",
    "        lines.append(line)\n",
    "\n",
    "    # sorting words in a line based on their column\n",
    "    for line in lines:\n",
    "        for word in line:\n",
    "            word[0].reverse()\n",
    "    for i in range(0, len(lines)):\n",
    "        lines[i].sort(reverse=True)\n",
    "\n",
    "    return lines"
   ]
  },
  {
   "cell_type": "code",
   "execution_count": 11,
   "metadata": {},
   "outputs": [
    {
     "name": "stderr",
     "output_type": "stream",
     "text": [
      "Neither CUDA nor MPS are available - defaulting to CPU. Note: This module is much faster with a GPU.\n"
     ]
    }
   ],
   "source": [
    "from tqdm import tqdm\n",
    "from pdf2image import convert_from_path\n",
    "\n",
    "from PIL import Image\n",
    "\n",
    "from docx import Document\n",
    "from docx.enum.text import WD_ALIGN_PARAGRAPH\n",
    "\n",
    "from collections.abc import Sequence\n",
    "\n",
    "import os\n",
    "import tempfile\n",
    "\n",
    "import easyocr\n",
    "reader = easyocr.Reader(['fa','en'])\n",
    "\n",
    "def pdf_to_word(pdf_path, **kwargs):\n",
    "    \"\"\" \n",
    "    A way to use easyOCR for extracting\n",
    "    texts from pdf file.\n",
    "    \n",
    "    Args:\n",
    "        pdf_path (str): PDF file path.\n",
    "        output_dir (str): Output directory.\n",
    "    \"\"\"\n",
    "    \n",
    "    pdf_name = pdf_path.split('/')[-1].split('.')[0]\n",
    "    pages = convert_from_path(pdf_path, **kwargs)\n",
    "\n",
    "    texts = []\n",
    "    print(f'PDF is preparing to convert into document [#{len(pages)} pages]')\n",
    "    for i, page in tqdm(enumerate(pages), position=0):\n",
    "\n",
    "        with tempfile.TemporaryDirectory() as img_dir:\n",
    "            img_name = f'{pdf_name}-{i+1}.jpg'\n",
    "            img_path = os.path.join(img_dir, img_name)\n",
    "\n",
    "            page.save(img_path, 'JPEG')\n",
    "\n",
    "            text = reader.readtext(img_path)\n",
    "            texts += extract_text_from_pic(text, i)\n",
    "    \n",
    "    return texts"
   ]
  },
  {
   "cell_type": "code",
   "execution_count": 12,
   "metadata": {},
   "outputs": [],
   "source": [
    "def save_as_word(lines, output_dir, pdf_name):\n",
    "    document = Document()\n",
    "    style_normal = document.styles['Normal']\n",
    "    font = style_normal.font\n",
    "    font.name = 'Arial'\n",
    "    font.rtl = True\n",
    "\n",
    "    style_h1 = document.styles['Heading 1']\n",
    "    font = style_h1.font\n",
    "    font.name = 'Arial'\n",
    "    font.rtl = True\n",
    "\n",
    "    i = 0\n",
    "    for line in lines:\n",
    "        heading = document.add_heading(f'صفحه: {i+1}', level=1)\n",
    "        heading.alignment = WD_ALIGN_PARAGRAPH.RIGHT\n",
    "        heading.style = document.styles['Heading 1']\n",
    "        for text in line:       \n",
    "            paragraph = document.add_paragraph(str(text[1]))\n",
    "            paragraph.alignment = WD_ALIGN_PARAGRAPH.RIGHT\n",
    "            paragraph.style = document.styles['Normal']\n",
    "\n",
    "        i += 1\n",
    "\n",
    "    output_path = os.path.join(output_dir, f'{pdf_name}.docx')\n",
    "    # output_path = os.path.join('./samples/', 'alaki.docx')\n",
    "    document.save(output_path)\n",
    "    print(f'Done! Your document can be find here \"{output_path}\"')"
   ]
  },
  {
   "cell_type": "code",
   "execution_count": 13,
   "metadata": {},
   "outputs": [
    {
     "name": "stderr",
     "output_type": "stream",
     "text": [
      "0it [00:00, ?it/s]"
     ]
    },
    {
     "name": "stdout",
     "output_type": "stream",
     "text": [
      "PDF is preparing to convert into document [#45 pages]\n"
     ]
    },
    {
     "name": "stderr",
     "output_type": "stream",
     "text": [
      "6it [01:16, 13.25s/it]"
     ]
    }
   ],
   "source": [
    "input_dir = input(\"Enter address of input file: \")\n",
    "output_dir = input(\"Enter address of output file: \")\n",
    "\n",
    "# input_dir = './samples/ahoy.pdf'\n",
    "# output_dir = './samples/'\n",
    "\n",
    "t = pdf_to_word(input_dir)"
   ]
  },
  {
   "cell_type": "code",
   "execution_count": 14,
   "metadata": {},
   "outputs": [
    {
     "name": "stdout",
     "output_type": "stream",
     "text": [
      "Done! Your document can be find here \"./samples/ahoy.docx\"\n"
     ]
    }
   ],
   "source": [
    "pdf_name = input_dir.split('/')[-1].split('.')[0]\n",
    "save_as_word(t, output_dir, pdf_name)"
   ]
  },
  {
   "cell_type": "code",
   "execution_count": 15,
   "metadata": {},
   "outputs": [
    {
     "ename": "IndexError",
     "evalue": "list index out of range",
     "output_type": "error",
     "traceback": [
      "\u001b[0;31m---------------------------------------------------------------------------\u001b[0m",
      "\u001b[0;31mIndexError\u001b[0m                                Traceback (most recent call last)",
      "Cell \u001b[0;32mIn[15], line 4\u001b[0m\n\u001b[1;32m      2\u001b[0m mx_line \u001b[38;5;241m=\u001b[39m \u001b[38;5;241m0\u001b[39m\n\u001b[1;32m      3\u001b[0m \u001b[38;5;28;01mfor\u001b[39;00m i \u001b[38;5;129;01min\u001b[39;00m \u001b[38;5;28mrange\u001b[39m(\u001b[38;5;241m0\u001b[39m, \u001b[38;5;28mlen\u001b[39m(t)):\n\u001b[0;32m----> 4\u001b[0m     tmp \u001b[38;5;241m=\u001b[39m \u001b[43mt\u001b[49m\u001b[43m[\u001b[49m\u001b[43mi\u001b[49m\u001b[43m]\u001b[49m\u001b[43m[\u001b[49m\u001b[38;5;241;43m0\u001b[39;49m\u001b[43m]\u001b[49m\u001b[43m[\u001b[49m\u001b[38;5;241;43m2\u001b[39;49m\u001b[43m]\u001b[49m[\u001b[38;5;241m1\u001b[39m] \u001b[38;5;241m-\u001b[39m t[i][\u001b[38;5;241m0\u001b[39m][\u001b[38;5;241m1\u001b[39m][\u001b[38;5;241m1\u001b[39m]; \n\u001b[1;32m      5\u001b[0m     \u001b[38;5;28;01mif\u001b[39;00m tmp \u001b[38;5;241m>\u001b[39m mx_line:\n\u001b[1;32m      6\u001b[0m         mx_line \u001b[38;5;241m=\u001b[39m tmp\n",
      "\u001b[0;31mIndexError\u001b[0m: list index out of range"
     ]
    }
   ],
   "source": [
    "# find maximum width of a line\n",
    "mx_line = 0\n",
    "for i in range(0, len(t)):\n",
    "    tmp = t[i][0][2][1] - t[i][0][1][1]; \n",
    "    if tmp > mx_line:\n",
    "        mx_line = tmp\n",
    "mx_line"
   ]
  },
  {
   "cell_type": "code",
   "execution_count": 16,
   "metadata": {},
   "outputs": [
    {
     "data": {
      "text/plain": [
       "'ب نام خدا ٧LTRAs ٥UNDs 2 ٥٢ ٦ 21 5P, را هنمای استفادد NOVINMED کت مهندسی پزشکی نویسن ( سهامی خاص ) نمایشگاه و دفترفروش مرکزی : تهران - خیابان مطهری - خيابان میرعماد - کوچه 11 ( پیمانی ) طبقه $3 واحد 111 تلفن 41223 فکس 88736222 دفتر اصفهان خیابان چهارباغ بالا مجتمع پارسیان شمارۀ 510 تلفن 031-36267172 فکس 031-36267363 كارخانه اصفهان شهرک صنعتی برق الکتر زونیک خمینی شهر - بلوک تلفن رسیدً شکایات : 031-95019155 تلفن خدمات پس از فروش : 31311544 -031 WWW novinmed com 1286.08 N٥VIN اهنماى استفاده Rev Signature Date of Issue Approved by Confirmed by Prepared by Issue Details No. ٨٥ J٠» Agharezaei 22/10/2018 Khorasani Azimian H Initial Release M AU UoKr 16/05/2019 Khorasani Shaabani Kh Bagheri Adding EMC Tabel A٥ Jopn Amending Serial 05/27/2020 Khorasani A Shaabani Kh Bagheri Label Adding warning list, ٨٥ J٠l»t Serial Label  EMC 05/19/2021 Khorasani Khorasani Bagheri Declaration  2 ULIRASOUNDS 215P, 21OP N٥VIN اهنماى استفاده فهرست مندرجات مقدمه توضیح علایم 5 موارد کاربرد عدم کاربرد اجزاء تنظیم کننده ها و نمایشگر شرح اجزاء تنظيم كننده ها ونمايشگر 13 هندپیس و شرح قسمتهای آن . 15 مراحل راه اندازی 16 راهنمای درمان 17 شرح پنجر ها 18 خدمات پس از فروش . 24 نگهداری تعمیرا رات 26 مشخصات  فنی دستگاه 29 تو =ضیح نشانه ها. 31 متعلقات دستگاه 41 3 ULIRASOUNDS 215P, 21OP N٥VIN اهنماى استفاده مقدمه شرکت مهندسی پزشکی نوین مفتخراست که ازسال 1367 تا به امروز تولیدکننده ای پیشرو در زمینه تجهیزات الکتروتراپی و همراهی قابل اعتماد براى جامعه فیزیوتراپی کشور بوده است اکنون پس از سال ها تلاش پشتکار. به اهداف بلندى نظیر ارتقای کیفی محصولات. قیمت مناسب تحویل به موقع محصولات نایل گردیده استاز آنجا كه تنوع طراحى وارتقاى کیفی محصولات. ازاهداف همیشگی این شرکت بوده استء این بارنیز با طراحی وتولید دستگاه های سرى Smart گام ديگرى دراين جهت برداشته شد. دستگاه هاى اولتراسوند سرى Smart علاوه بر زيبايى وسهولت استفادهء داراى تمام امکانساتی هستند که بک فیزیوتراپیست برای درمان با کیفیت لازم دارد. دستگاه مجهزبه سیستم تشخیص تماس ناكافی است وبرای جلوگیری از درمان ناقص در حالت بازدهی کم خروجی روى بیمارء زمان را متوقف می سازد تازمان مؤثر اندازه گیری شود. برای حفاظت بیمار طبق استاندارد پزشکیء در دماهای غیر مجاز خروجی دستگاه قطع می شود وتا گشتن دمای سطح هد يه حد مجاز خروجی قطع می ماند. دستگاه به طور اتوماتیک با پروب كاليبر ٥ شده تا خروجی لازم را فراهم سازد. دستگاه هرگونه عیب و نقص در پروب  کابل كسانكتور اتصالی را تشخیص داده تراپیست رااز نوع عیب مطلع می سازد امکان تست پروب دراین دستگاهء سهولت بازدیدهای دوره ای که براى هر دستگاه پزشکی لازم است رابه طور سریع و بدون نقص به دنبال دارد تمام کنترل های دستگاه از جمله نمایشگر صداى Beep قابل تنظیم هستند منظور آشنايى بيشترء درقسمت هاى بعدى توضيحات مورد نیاز درمان راه اندازى مواظبت _نگهداری دستگاه آورده شده است . ثرکت مسندی پَرسکی نوین هشدار : قبل ازرا0 اندازى دستگام رامنمای استفاده رابه دقت بخوانيد. ULIRASOUNDS 215P, 21OP اهنماى استفاده NVIN توضیح : علایم خطر وجود خطری که می تواند منجربه مرک یا جراحت جدی بدن شوداگر دستورات ایمنی نادید0 گرفت شود. هشدار وجود خطری می تواند منجرب جراحت بدن شود اگر دستورات ایمنی نادیده گرفته شود. احتیاط وجود خطری که می تواند باعث صدمه به دستگاه یا وسایل ديگر شود اگر دستورات ایمنی نادید0 گرفت شود. توجه اطلاعات مربوط به عملکرد ایمن دستگاه یا وسایل مربوط به آن. توضیح فنى : اطلاعات فنى مربوط ب0 دستثاه. نکته نکات و رامنمایی مای مفید. تعریف : تعريف عباراتى كه درمتن استفاده مى شود. ULTRASOUNDS 215P, 21 OP 5 N٥VIN اهنماى استفاده موارد كاربرد وعدم كاربرد موارد كاربرد کاهش درد (2 مشکلات مفصلی عضلانی (3 بهبود گردش خون (4 ضایعات پوستی (5 ضایعات اعصاب محيطی (6 التهاب تاندون . بورس و کپسول (7 کوتاهی بافت نرم (8 ترمیم بافت نرم موارد عدم كاربرد الف ) موارد عدم كاربرد مطلق تومورهای بدخیم (2 افرادى كه دستگاه الكترونيكى جاسازى شده ( مانند Pacemaker دارند مگرآن كه موافقت شک متخصص گرفته شده باشد (3 نواحی مشکوک Thrombophlebitis ها (5 بيضه ها و تخمدان ها (6 مفاصل مصنوعی پلاستیکی (7 شكم  کمریا لگن خانم های باردار (8 بافت سيستم عصبی مرکزی (بر روی نخاع پس از عمل لامینکتومی ) ب) موارد عدم كاربرد نسبی التهاب حاد (2 برروی صفحات رشد استخوانی (3 بر روی شکستگی ها اشدت های بالا باعث تأخیر در ترمیم می شود وشدت های پایین به ترمیم شکستگی ها کمک می کند . (4 برروی نواحی دارای اختلال حس 0 ULIRASOUNDS 215P, 21OP '"
      ]
     },
     "execution_count": 16,
     "metadata": {},
     "output_type": "execute_result"
    }
   ],
   "source": [
    "# save all the lines in one string\n",
    "lines = t\n",
    "kol_text = ''\n",
    "for line in lines:\n",
    "    for text in line:\n",
    "        kol_text += str(text[1]) + ' '\n",
    "\n",
    "kol_text"
   ]
  },
  {
   "cell_type": "code",
   "execution_count": null,
   "metadata": {},
   "outputs": [],
   "source": [
    "# save a string in word file\n",
    "document = Document()\n",
    "style_normal = document.styles['Normal']\n",
    "font = style_normal.font\n",
    "font.name = 'Arial'\n",
    "font.rtl = True\n",
    "\n",
    "style_h1 = document.styles['Heading 1']\n",
    "font = style_h1.font\n",
    "font.name = 'Arial'\n",
    "font.rtl = True\n",
    "\n",
    "paragraph = document.add_paragraph(kol_text)\n",
    "paragraph.alignment = WD_ALIGN_PARAGRAPH.RIGHT\n",
    "paragraph.style = document.styles['Normal']\n",
    "\n",
    "output_path = os.path.join('./samples/', 'alaki.docx')\n",
    "document.save(output_path)\n",
    "print(f'Done! Your document can be find here \"{output_path}\"')"
   ]
  }
 ],
 "metadata": {
  "kernelspec": {
   "display_name": "chatbot",
   "language": "python",
   "name": "python3"
  },
  "language_info": {
   "codemirror_mode": {
    "name": "ipython",
    "version": 3
   },
   "file_extension": ".py",
   "mimetype": "text/x-python",
   "name": "python",
   "nbconvert_exporter": "python",
   "pygments_lexer": "ipython3",
   "version": "3.10.12"
  }
 },
 "nbformat": 4,
 "nbformat_minor": 2
}
