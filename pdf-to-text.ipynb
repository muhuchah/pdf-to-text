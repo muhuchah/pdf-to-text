{
 "cells": [
  {
   "cell_type": "code",
   "execution_count": null,
   "metadata": {},
   "outputs": [],
   "source": [
    "from pprint import pprint\n",
    "from tqdm import tqdm\n",
    "from pdf2image import convert_from_path\n",
    "\n",
    "from PIL import Image\n",
    "\n",
    "import easyocr\n",
    "reader = easyocr.Reader(['fa','en'])\n",
    "\n",
    "from docx import Document\n",
    "from docx.enum.text import WD_ALIGN_PARAGRAPH\n",
    "\n",
    "from collections.abc import Sequence\n",
    "\n",
    "import os\n",
    "import tempfile\n",
    "\n",
    "def pdf_to_word(pdf_path, output_dir, lang='fas+eng', **kwargs):\n",
    "    \"\"\" \n",
    "    A way to use google-tesseract ocr for extracting\n",
    "    texts from pdf file.\n",
    "    \n",
    "    Args:\n",
    "        pdf_path (str): PDF file path.\n",
    "        output_dir (str): Output directory.\n",
    "        lang (str): tesseract language support.\n",
    "    \"\"\"\n",
    "    \n",
    "    pdf_name = pdf_path.split('/')[-1].split('.')[0]\n",
    "    pages = convert_from_path(pdf_path, **kwargs)\n",
    "    texts = []\n",
    "    \n",
    "    print(f'PDF is preparing to convert into document [#{len(pages)} pages]')\n",
    "    for i, page in tqdm(enumerate(pages), position=0):\n",
    "        \n",
    "        with tempfile.TemporaryDirectory() as img_dir:\n",
    "            img_name = f'{pdf_name}-{i+1}.jpg'\n",
    "            img_path = os.path.join(img_dir, img_name)\n",
    "\n",
    "            page.save(img_path, 'JPEG')\n",
    "            # text = pytesseract.image_to_string(Image.open(img_path), lang=lang)\n",
    "            text = reader.readtext(img_path)\n",
    "            # texts.append(text)\n",
    "            texts += text;\n",
    "    \n",
    "    return texts\n",
    "    # with open('readme.txt', 'w') as f:\n",
    "        # f.write(str(texts))\n",
    "\n"
   ]
  },
  {
   "cell_type": "code",
   "execution_count": null,
   "metadata": {},
   "outputs": [],
   "source": [
    "t = pdf_to_word('./samples/sss.pdf', './samples/')"
   ]
  },
  {
   "cell_type": "code",
   "execution_count": null,
   "metadata": {},
   "outputs": [],
   "source": [
    "for x in t:\n",
    "    print(x)"
   ]
  },
  {
   "cell_type": "code",
   "execution_count": null,
   "metadata": {},
   "outputs": [],
   "source": [
    "t[1][0]"
   ]
  },
  {
   "cell_type": "code",
   "execution_count": null,
   "metadata": {},
   "outputs": [],
   "source": [
    "t[1][0][2]"
   ]
  },
  {
   "cell_type": "code",
   "execution_count": null,
   "metadata": {},
   "outputs": [],
   "source": [
    "t[1][0][1]"
   ]
  },
  {
   "cell_type": "code",
   "execution_count": null,
   "metadata": {},
   "outputs": [],
   "source": [
    "mx_line = 0;\n",
    "for i in range(0, len(t)):\n",
    "    tmp = t[i][0][2][1] - t[i][0][1][1]; \n",
    "    if tmp > mx_line:\n",
    "        mx_line = tmp\n",
    "mx_line"
   ]
  },
  {
   "cell_type": "code",
   "execution_count": 8,
   "metadata": {},
   "outputs": [],
   "source": [
    "words = []\n",
    "for i in range(0,len(t)):\n",
    "    tmp = []\n",
    "    y = (t[i][0][2][1] + t[i][0][1][1]) / 2\n",
    "\n",
    "    tmp.append([y, t[i][0][2][0]])\n",
    "    tmp.append(t[i][1])\n",
    "    words.append(tmp)"
   ]
  },
  {
   "cell_type": "code",
   "execution_count": null,
   "metadata": {},
   "outputs": [],
   "source": [
    "words = sorted(words)\n",
    "words"
   ]
  },
  {
   "cell_type": "code",
   "execution_count": 10,
   "metadata": {},
   "outputs": [],
   "source": [
    "lines = []\n",
    "line = []\n",
    "pre = words[0][0][0]\n",
    "for word in words:\n",
    "    diff = abs(word[0][0] - pre)\n",
    "\n",
    "    if diff <= 10:\n",
    "        line.append(word)\n",
    "    else:\n",
    "        lines.append(line)\n",
    "        line =[word]\n",
    "        pre = word[0][0]\n",
    "\n",
    "if line:\n",
    "    lines.append(line)"
   ]
  },
  {
   "cell_type": "code",
   "execution_count": null,
   "metadata": {},
   "outputs": [],
   "source": [
    "lines[0]"
   ]
  },
  {
   "cell_type": "code",
   "execution_count": 16,
   "metadata": {},
   "outputs": [],
   "source": [
    "for line in lines:\n",
    "    for word in line:\n",
    "        word[0].reverse()"
   ]
  },
  {
   "cell_type": "code",
   "execution_count": null,
   "metadata": {},
   "outputs": [],
   "source": [
    "lines"
   ]
  },
  {
   "cell_type": "code",
   "execution_count": 20,
   "metadata": {},
   "outputs": [],
   "source": [
    "for i in range(0, len(lines)):\n",
    "    lines[i].sort(reverse=True)"
   ]
  },
  {
   "cell_type": "code",
   "execution_count": null,
   "metadata": {},
   "outputs": [],
   "source": [
    "lines"
   ]
  },
  {
   "cell_type": "code",
   "execution_count": null,
   "metadata": {},
   "outputs": [],
   "source": []
  }
 ],
 "metadata": {
  "kernelspec": {
   "display_name": "chatbot",
   "language": "python",
   "name": "python3"
  },
  "language_info": {
   "codemirror_mode": {
    "name": "ipython",
    "version": 3
   },
   "file_extension": ".py",
   "mimetype": "text/x-python",
   "name": "python",
   "nbconvert_exporter": "python",
   "pygments_lexer": "ipython3",
   "version": "3.10.12"
  }
 },
 "nbformat": 4,
 "nbformat_minor": 2
}
